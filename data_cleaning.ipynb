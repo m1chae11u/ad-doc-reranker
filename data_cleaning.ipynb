{
 "cells": [
  {
   "cell_type": "code",
   "execution_count": 1,
   "metadata": {},
   "outputs": [],
   "source": [
    "pathrawdata = \"train_250k.tsv\""
   ]
  },
  {
   "cell_type": "code",
   "execution_count": 2,
   "metadata": {},
   "outputs": [
    {
     "name": "stdout",
     "output_type": "stream",
     "text": [
      "              0        1                                           2  \\\n",
      "0       2935782  1942925                      Portable Wrench Holder   \n",
      "1       1509963  2812118     what do skin tags look like on the face   \n",
      "2       4509227  4665926                                 fuel gauges   \n",
      "3       1480602  2156357                             horseshoe purse   \n",
      "4       4253880  1562646  DELL LAPTOP DOCKING STATION TRIPLE MONITOR   \n",
      "...         ...      ...                                         ...   \n",
      "249461   178622  1843524                               gss342 filter   \n",
      "249462  2922307  1224917                   tens unit for 10 year old   \n",
      "249463  2235237  1700675                           dooney and bourke   \n",
      "249464  4468581   259000                          pet sympathy cards   \n",
      "249465  3391356   298941                        birthday celebration   \n",
      "\n",
      "                                                        3  \\\n",
      "0                   Klutch 15-Slot Universal Wrench Pouch   \n",
      "1       TAG OFF Skin Natural Skin Tag Remover Take Ski...   \n",
      "2                    Harley-Davidson Skull LED Fuel Gauge   \n",
      "3       CHANEL Frt Pocket Handbag Quilted Patent Leath...   \n",
      "4       Dell WD15 Monitor Dock 4K with 180W Adapter, U...   \n",
      "...                                                   ...   \n",
      "249461  Genuine Walbro / TI Automotive GSS342 255LPH F...   \n",
      "249462                       TENS Unit Pain Relief System   \n",
      "249463            Dooney & Bourke Nylon Tote - Black/Gold   \n",
      "249464  Pet Sympathy Cards for loss of a Beloved Pet I...   \n",
      "249465  Happy Birthday to You Celebration Invitation, ...   \n",
      "\n",
      "                                                        4  \\\n",
      "0       Sturdy Klutch fabric pouch is ideal for organi...   \n",
      "1       Tag OFF \"Skin Tag Remover\" is a topical remedy...   \n",
      "2       This low-profile fuel gauge replaces the analo...   \n",
      "3       Manufacturer: Chanel Material: Black Quilted P...   \n",
      "4       3x SuperSpeed USB 3.0; 2x USB 2.0. Designed Fo...   \n",
      "...                                                   ...   \n",
      "249461  Walbro GSS342 255LPH Fuel Pump Toyota Echo 200...   \n",
      "249462  TENS Unit Pain Relief System - Medical Grade T...   \n",
      "249463  Dooney & Bourke brings impeccable style to a c...   \n",
      "249464  Let friends and family know you share their so...   \n",
      "249465  Thank you for your interest in our fabulous in...   \n",
      "\n",
      "                          5                6                7  8  \\\n",
      "0          northerntool.com    Northern Tool           Klutch  1   \n",
      "1             overstock.com    Overstock.com            Other  0   \n",
      "2       harley-davidson.com  Harley-Davidson  HARLEY-DAVIDSON  1   \n",
      "3               tradesy.com          Tradesy           Chanel  0   \n",
      "4                amazon.com       Amazon.com             Dell  0   \n",
      "...                     ...              ...              ... ..   \n",
      "249461     highflowfuel.com     Quantum Fuel           Walbro  0   \n",
      "249462          ireliev.com          iReliev          iReliev  1   \n",
      "249463            macys.com           Macy's  Dooney & Bourke  1   \n",
      "249464   currentcatalog.com  Current Catalog            Other  1   \n",
      "249465             etsy.com             Etsy    PsPStationery  0   \n",
      "\n",
      "                        9  \n",
      "0       [IMG_CATEID_3746]  \n",
      "1       [IMG_CATEID_2584]  \n",
      "2       [IMG_CATEID_3323]  \n",
      "3        [IMG_CATEID_843]  \n",
      "4        [IMG_CATEID_892]  \n",
      "...                   ...  \n",
      "249461  [IMG_CATEID_1364]  \n",
      "249462  [IMG_CATEID_4487]  \n",
      "249463   [IMG_CATEID_843]  \n",
      "249464   [IMG_CATEID_260]  \n",
      "249465  [IMG_CATEID_4493]  \n",
      "\n",
      "[249466 rows x 10 columns]\n"
     ]
    }
   ],
   "source": [
    "import pandas as pd\n",
    "\n",
    "data = pd.read_csv(pathrawdata, sep='\\t', on_bad_lines=\"skip\", header=None)\n",
    "\n",
    "print(data)"
   ]
  },
  {
   "cell_type": "code",
   "execution_count": 3,
   "metadata": {},
   "outputs": [],
   "source": [
    "data = data.iloc[:,[3,4,5,6,7]]"
   ]
  },
  {
   "cell_type": "code",
   "execution_count": 4,
   "metadata": {},
   "outputs": [],
   "source": [
    "data.columns = [\"title\", \"description\", \"url\", \"retailer\", \"brand\"]"
   ]
  },
  {
   "cell_type": "code",
   "execution_count": 5,
   "metadata": {},
   "outputs": [],
   "source": [
    "data[\"text\"] = \"description: \" + data[\"description\"] + \"; url: \" + data[\"url\"] + \"; retailer: \" + data[\"retailer\"] + \"; brand: \" + data[\"brand\"]"
   ]
  },
  {
   "cell_type": "code",
   "execution_count": 6,
   "metadata": {},
   "outputs": [],
   "source": [
    "data = data.iloc[:,[0,-1]]"
   ]
  },
  {
   "cell_type": "code",
   "execution_count": 7,
   "metadata": {},
   "outputs": [
    {
     "data": {
      "text/html": [
       "<div>\n",
       "<style scoped>\n",
       "    .dataframe tbody tr th:only-of-type {\n",
       "        vertical-align: middle;\n",
       "    }\n",
       "\n",
       "    .dataframe tbody tr th {\n",
       "        vertical-align: top;\n",
       "    }\n",
       "\n",
       "    .dataframe thead th {\n",
       "        text-align: right;\n",
       "    }\n",
       "</style>\n",
       "<table border=\"1\" class=\"dataframe\">\n",
       "  <thead>\n",
       "    <tr style=\"text-align: right;\">\n",
       "      <th></th>\n",
       "      <th>title</th>\n",
       "      <th>text</th>\n",
       "    </tr>\n",
       "  </thead>\n",
       "  <tbody>\n",
       "    <tr>\n",
       "      <th>0</th>\n",
       "      <td>Klutch 15-Slot Universal Wrench Pouch</td>\n",
       "      <td>description: Sturdy Klutch fabric pouch is ide...</td>\n",
       "    </tr>\n",
       "    <tr>\n",
       "      <th>1</th>\n",
       "      <td>TAG OFF Skin Natural Skin Tag Remover Take Ski...</td>\n",
       "      <td>description: Tag OFF \"Skin Tag Remover\" is a t...</td>\n",
       "    </tr>\n",
       "    <tr>\n",
       "      <th>2</th>\n",
       "      <td>Harley-Davidson Skull LED Fuel Gauge</td>\n",
       "      <td>description: This low-profile fuel gauge repla...</td>\n",
       "    </tr>\n",
       "    <tr>\n",
       "      <th>3</th>\n",
       "      <td>CHANEL Frt Pocket Handbag Quilted Patent Leath...</td>\n",
       "      <td>description: Manufacturer: Chanel Material: Bl...</td>\n",
       "    </tr>\n",
       "    <tr>\n",
       "      <th>4</th>\n",
       "      <td>Dell WD15 Monitor Dock 4K with 180W Adapter, U...</td>\n",
       "      <td>description: 3x SuperSpeed USB 3.0; 2x USB 2.0...</td>\n",
       "    </tr>\n",
       "    <tr>\n",
       "      <th>...</th>\n",
       "      <td>...</td>\n",
       "      <td>...</td>\n",
       "    </tr>\n",
       "    <tr>\n",
       "      <th>249461</th>\n",
       "      <td>Genuine Walbro / TI Automotive GSS342 255LPH F...</td>\n",
       "      <td>description: Walbro GSS342 255LPH Fuel Pump To...</td>\n",
       "    </tr>\n",
       "    <tr>\n",
       "      <th>249462</th>\n",
       "      <td>TENS Unit Pain Relief System</td>\n",
       "      <td>description: TENS Unit Pain Relief System - Me...</td>\n",
       "    </tr>\n",
       "    <tr>\n",
       "      <th>249463</th>\n",
       "      <td>Dooney &amp; Bourke Nylon Tote - Black/Gold</td>\n",
       "      <td>description: Dooney &amp; Bourke brings impeccable...</td>\n",
       "    </tr>\n",
       "    <tr>\n",
       "      <th>249464</th>\n",
       "      <td>Pet Sympathy Cards for loss of a Beloved Pet I...</td>\n",
       "      <td>description: Let friends and family know you s...</td>\n",
       "    </tr>\n",
       "    <tr>\n",
       "      <th>249465</th>\n",
       "      <td>Happy Birthday to You Celebration Invitation, ...</td>\n",
       "      <td>description: Thank you for your interest in ou...</td>\n",
       "    </tr>\n",
       "  </tbody>\n",
       "</table>\n",
       "<p>249466 rows × 2 columns</p>\n",
       "</div>"
      ],
      "text/plain": [
       "                                                    title  \\\n",
       "0                   Klutch 15-Slot Universal Wrench Pouch   \n",
       "1       TAG OFF Skin Natural Skin Tag Remover Take Ski...   \n",
       "2                    Harley-Davidson Skull LED Fuel Gauge   \n",
       "3       CHANEL Frt Pocket Handbag Quilted Patent Leath...   \n",
       "4       Dell WD15 Monitor Dock 4K with 180W Adapter, U...   \n",
       "...                                                   ...   \n",
       "249461  Genuine Walbro / TI Automotive GSS342 255LPH F...   \n",
       "249462                       TENS Unit Pain Relief System   \n",
       "249463            Dooney & Bourke Nylon Tote - Black/Gold   \n",
       "249464  Pet Sympathy Cards for loss of a Beloved Pet I...   \n",
       "249465  Happy Birthday to You Celebration Invitation, ...   \n",
       "\n",
       "                                                     text  \n",
       "0       description: Sturdy Klutch fabric pouch is ide...  \n",
       "1       description: Tag OFF \"Skin Tag Remover\" is a t...  \n",
       "2       description: This low-profile fuel gauge repla...  \n",
       "3       description: Manufacturer: Chanel Material: Bl...  \n",
       "4       description: 3x SuperSpeed USB 3.0; 2x USB 2.0...  \n",
       "...                                                   ...  \n",
       "249461  description: Walbro GSS342 255LPH Fuel Pump To...  \n",
       "249462  description: TENS Unit Pain Relief System - Me...  \n",
       "249463  description: Dooney & Bourke brings impeccable...  \n",
       "249464  description: Let friends and family know you s...  \n",
       "249465  description: Thank you for your interest in ou...  \n",
       "\n",
       "[249466 rows x 2 columns]"
      ]
     },
     "execution_count": 7,
     "metadata": {},
     "output_type": "execute_result"
    }
   ],
   "source": [
    "data"
   ]
  },
  {
   "cell_type": "code",
   "execution_count": null,
   "metadata": {},
   "outputs": [],
   "source": [
    "data.to_csv(\"dataset.csv\", index=False)"
   ]
  }
 ],
 "metadata": {
  "kernelspec": {
   "display_name": "Python 3",
   "language": "python",
   "name": "python3"
  },
  "language_info": {
   "codemirror_mode": {
    "name": "ipython",
    "version": 3
   },
   "file_extension": ".py",
   "mimetype": "text/x-python",
   "name": "python",
   "nbconvert_exporter": "python",
   "pygments_lexer": "ipython3",
   "version": "3.12.5"
  }
 },
 "nbformat": 4,
 "nbformat_minor": 2
}
